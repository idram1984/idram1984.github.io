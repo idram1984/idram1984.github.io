{
 "cells": [
  {
   "cell_type": "markdown",
   "id": "e1216b44",
   "metadata": {},
   "source": [
    "# Market Sentiment Analysis\n",
    "\n",
    "This dashboard shows the current market sentiment indicators and what's already priced into the market."
   ]
  },
  {
   "cell_type": "code",
   "execution_count": null,
   "id": "ab8b8c75",
   "metadata": {},
   "outputs": [],
   "source": [
    "import pandas as pd\n",
    "import matplotlib.pyplot as plt\n",
    "import seaborn as sns\n",
    "import numpy as np\n",
    "\n",
    "# Sample market sentiment data\n",
    "dates = pd.date_range(start='2024-01-01', periods=100)\n",
    "data = pd.DataFrame({\n",
    "    'Date': dates,\n",
    "    'VIX': np.random.normal(20, 5, 100),  # Volatility Index\n",
    "    'Put_Call_Ratio': np.random.normal(1.0, 0.2, 100),  # Put/Call Ratio\n",
    "    'Market_Sentiment': np.random.normal(50, 10, 100)  # Sentiment Index (0-100)\n",
    "})\n",
    "\n",
    "# Create a figure with subplots\n",
    "fig, (ax1, ax2, ax3) = plt.subplots(3, 1, figsize=(12, 12))\n",
    "\n",
    "# Plot VIX\n",
    "sns.lineplot(data=data, x='Date', y='VIX', ax=ax1)\n",
    "ax1.set_title('VIX Index')\n",
    "ax1.set_ylabel('VIX Level')\n",
    "\n",
    "# Plot Put/Call Ratio\n",
    "sns.lineplot(data=data, x='Date', y='Put_Call_Ratio', ax=ax2)\n",
    "ax2.set_title('Put/Call Ratio')\n",
    "ax2.set_ylabel('Ratio')\n",
    "\n",
    "# Plot Market Sentiment\n",
    "sns.lineplot(data=data, x='Date', y='Market_Sentiment', ax=ax3)\n",
    "ax3.set_title('Market Sentiment Index')\n",
    "ax3.set_ylabel('Sentiment (0-100)')\n",
    "\n",
    "plt.tight_layout()\n",
    "plt.show()"
   ]
  }
 ],
 "metadata": {},
 "nbformat": 4,
 "nbformat_minor": 5
}
